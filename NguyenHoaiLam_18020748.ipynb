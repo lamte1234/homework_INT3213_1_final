{
 "cells": [
  {
   "cell_type": "markdown",
   "metadata": {},
   "source": [
    "# 1. Hệ mật RSA 512 bits"
   ]
  },
  {
   "cell_type": "markdown",
   "metadata": {},
   "source": [
    "Đầu tiên ta cài đặt các package cần thiết. Có thể cần thêm package libnum nếu như chưa được tích hợp sẵn. Cài package libnum bằng cách chạy dòng lệnh sau:\n",
    "##### !pip install libnum\n",
    "Các package này sẽ được sử dụng trong cả 3 hệ mật dưới."
   ]
  },
  {
   "cell_type": "code",
   "execution_count": 8,
   "metadata": {},
   "outputs": [
    {
     "name": "stdout",
     "output_type": "stream",
     "text": [
      "Requirement already satisfied: pycryptodome in c:\\users\\user\\anaconda3\\lib\\site-packages (3.10.1)\n",
      "Requirement already satisfied: Crypto in c:\\users\\user\\anaconda3\\lib\\site-packages (1.4.1)\n",
      "Requirement already satisfied: shellescape in c:\\users\\user\\anaconda3\\lib\\site-packages (from Crypto) (3.8.1)\n",
      "Requirement already satisfied: Naked in c:\\users\\user\\anaconda3\\lib\\site-packages (from Crypto) (0.1.31)\n",
      "Requirement already satisfied: requests in c:\\users\\user\\anaconda3\\lib\\site-packages (from Naked->Crypto) (2.24.0)\n",
      "Requirement already satisfied: pyyaml in c:\\users\\user\\anaconda3\\lib\\site-packages (from Naked->Crypto) (5.3.1)\n",
      "Requirement already satisfied: urllib3!=1.25.0,!=1.25.1,<1.26,>=1.21.1 in c:\\users\\user\\anaconda3\\lib\\site-packages (from requests->Naked->Crypto) (1.25.11)\n",
      "Requirement already satisfied: chardet<4,>=3.0.2 in c:\\users\\user\\anaconda3\\lib\\site-packages (from requests->Naked->Crypto) (3.0.4)\n",
      "Requirement already satisfied: idna<3,>=2.5 in c:\\users\\user\\anaconda3\\lib\\site-packages (from requests->Naked->Crypto) (2.10)\n",
      "Requirement already satisfied: certifi>=2017.4.17 in c:\\users\\user\\anaconda3\\lib\\site-packages (from requests->Naked->Crypto) (2020.6.20)\n"
     ]
    }
   ],
   "source": [
    "! pip install pycryptodome\n",
    "! pip install Crypto --user"
   ]
  },
  {
   "cell_type": "markdown",
   "metadata": {},
   "source": [
    "### Các bước thực hiện đối với hệ mật RSA:\n",
    "**Bước 1**: Khởi tạo giá trị cho message là thông điệp chúng ta cần trao đổi ở đây là 1 chuối có giá trị là 'hoailam'.\n",
    "\n",
    "**Bước 2**: Tính toán các số nguyên tố p và q có độ dài 512 bit thông qua hàm Crypto.Util.number.getPrime(). Ở đây chúng ta sử dụng phương pháp lấy số ngẫu nhiên nên mỗi lần thực hiện lại, p và q sẽ khác nhau.\n",
    "\n",
    "**Bước 3**: Tính toán hai giá trị n và phi(n). Phi(n) sẽ được quy ước là phi trong phần mã nguồn.\n",
    "\n",
    "    n = p * q\n",
    "    phi = (p - 1) * (q - 1)\n",
    "    \n",
    "**Bước 4**: Chọn số e bất kì, ở đây e = 65537.\n",
    "\n",
    "**Bước 5**: Tính toán khóa riêng tư d dùng để giải mã.\n",
    "\n",
    "    d = e^(-1) mod (phi)\n",
    "    \n",
    "**Bước 6**: Số hóa thông điệp message ở đầu sử dụng 'utf-8'. Thông điệp đã được số hóa kí hiệu là m.\n",
    "\n",
    "**Bước 7**: Tiến hành mã hóa thông điệp m bằng khóa công khai (n, e)\n",
    "\n",
    "    cipher = m^e mod (n)\n",
    "    \n",
    "**Bước 8**: Giải mã thông điệp đã được mã hóa bằng khóa riêng tư d\n",
    "\n",
    "    decipher = cipher^d mod (n)\n",
    "    \n",
    "Sau khi giải mã chuyển dữ liệu số hóa về dạng chuỗi\n",
    "\n",
    "Kết quả thực hiện như sau (mã nguồn sau đó đến phần kết quả thực hiện):"
   ]
  },
  {
   "cell_type": "code",
   "execution_count": 10,
   "metadata": {},
   "outputs": [
    {
     "name": "stdout",
     "output_type": "stream",
     "text": [
      "Message=hoailam\n",
      "p=12361100961649939059433382920395959210739948344599594825808827407913931324356940173861694642574350265545441684242675148882618440123143870718768234974396611\n",
      "q=12703064859867041018095629711087561562235860205478517149089620871998374149226896211434793950803355787498478343647468084664476125006756517245729983483422511\n",
      "\n",
      "d=38634814829640736821081507214484800404593483720473336923579817446981035028587396559891143626771595065637983717022628865470310819285930081016522794292768027290612970308463470165409736518289128136796636918792318389321377241680715918114108289414605676083400853484306445886437876608957485666666403042134629060973\n",
      "e=65537\n",
      "N=157023867255204029087951549662988549712610427447358826788257395102188904971691919897400674720479381445997924890698420338376915358979348819818905697337372936973927200438268167093692191309822453019296376046911489334476503185981695545104249790340687157146539353054973102177929926587355625288686634648443399510221\n",
      "\n",
      "Ma_hoa=101800199864248981440842300549586419210693697480743961275772384674109353173614917516222489093224528895133019685769328182433309552234497764379786108799314962644474438354847008603298490413508225451570239268708320051731082847701701695388086492550523152466006042892072166442129424714024444969280995605138048556054\n",
      "\n",
      "Giai_ma=b'hoailam'\n"
     ]
    }
   ],
   "source": [
    "from Crypto.Util.number import bytes_to_long, long_to_bytes\n",
    "from Crypto.Random import get_random_bytes \n",
    "import Crypto\n",
    "import libnum\n",
    "\n",
    "msg=\"hoailam\"\n",
    "\n",
    "# Khoa cong khai (n, e) khoa rieng tu d\n",
    "p = Crypto.Util.number.getPrime(512, randfunc=get_random_bytes)\n",
    "q = Crypto.Util.number.getPrime(512, randfunc=get_random_bytes)\n",
    "\n",
    "n = p*q\n",
    "phi=(p-1)*(q-1)\n",
    "\n",
    "e=65537\n",
    "d=libnum.invmod(e,phi)\n",
    "\n",
    "m=  bytes_to_long(msg.encode('utf-8'))\n",
    "\n",
    "cipher=pow(m,e, n)\n",
    "decipher=pow(cipher,d ,n)\n",
    "\n",
    "print (\"Message=%s\\np=%s\\nq=%s\\n\\nd=%d\\ne=%d\\nN=%s\\n\\nMa_hoa=%s\\n\\nGiai_ma=%s\" % (msg,p,q,d,e,n,cipher,(long_to_bytes(decipher))))"
   ]
  },
  {
   "cell_type": "markdown",
   "metadata": {},
   "source": [
    "# 2. Hệ mật Elgamal 256 bits"
   ]
  },
  {
   "cell_type": "markdown",
   "metadata": {},
   "source": [
    "### Các bước thực hiện đối với hệ mật Elgamal:\n",
    "**Bước 1**: Khởi tạo giá trị cho message là thông điệp chúng ta cần trao đổi ở đây là 1 chuối có giá trị là 'hoailam'.\n",
    "\n",
    "**Bước 2**: Tính toán số nguyên tố p có độ dài 256 bit thông qua hàm Crypto.Util.number.getPrime(). Ở đây chúng ta sử dụng phương pháp lấy số ngẫu nhiên nên mỗi lần thực hiện lại, p sẽ khác nhau.\n",
    "\n",
    "**Bước 3**: Khởi tạo các giá trị cần thiết cho các biến alpha, k, a, beta.\n",
    "\n",
    "Do số p lớn nên người ta thường gán trực tiếp các giá trị cho alpha bằng các giá trị nhỏ, ở đây alpha = 2.\n",
    "\n",
    "Gán giá trị cho k bằng một số tự nhiên trong tập giá trị của Z(p-1).\n",
    "\n",
    "Gán giá trị cho a là một số ngẫu nhiên, ở đây a = 765.\n",
    "\n",
    "Tính toán giá trị cho beta.\n",
    "\n",
    "    beta = alpha ^ a mod (p)\n",
    "\n",
    "Khi đó ta có bộ khóa công khai K'(p, alpha, beta), khóa riêng tư K''(a)\n",
    "    \n",
    "**Bước 4**: Số hóa thông điệp message ở đầu sử dụng 'utf-8'. Thông điệp đã được số hóa kí hiệu là m.\n",
    "\n",
    "**Bước 5**: Tiến hành mã hóa thông điệp m bằng khóa công khai (p, alpha, beta) và số k\n",
    "\n",
    "    y1 = alpha ^ k mod (p)\n",
    "    y2 = (m * (beta ^ k)) mod (p) = (beta ^ k mod (p) * m mod (p)) mod (p)\n",
    "    \n",
    "Mã hóa sẽ là bộ y1, y2 như trên.\n",
    "    \n",
    "**Bước 6**: Giải mã thông điệp đã được mã hóa bằng khóa riêng tư a\n",
    "\n",
    "    decipher = (y2 * ((y1 ^ a) ^ (-1))) mod (p) = (y2 mod (p) * (y1 ^ a) ^ (-1) mod (p)) mod (p)\n",
    "\n",
    "    \n",
    "Sau khi giải mã chuyển dữ liệu số hóa về dạng chuỗi\n",
    "\n",
    "Kết quả thực hiện như sau (mã nguồn sau đó đến phần kết quả thực hiện):"
   ]
  },
  {
   "cell_type": "code",
   "execution_count": 11,
   "metadata": {},
   "outputs": [
    {
     "name": "stdout",
     "output_type": "stream",
     "text": [
      "Message=hoailam\n",
      "p=95757006111623635108841940793057106450280418779972246374742501921893115493211\n",
      "Alpha=2\n",
      "a=765\n",
      "Beta=63999578118578642493535910320147124563537627748227240577849982963620043493728\n",
      "k=18212636745836060366641735434260137212286604724402705047555116720990749677059\n",
      "\n",
      "Ma_hoa:\n",
      "\ty1=76236373163793537168763218880738010203114063121642655961617051338393042731939\n",
      "\ty2=41844859692105554402084906452261103532824553359767747388627925007330072821058\n",
      "\n",
      "Giai_ma=b'hoailam'\n"
     ]
    }
   ],
   "source": [
    "from random import randint\n",
    "\n",
    "# Khoa cong khai (p, alpha, beta), khoa rieng tu a\n",
    "p = Crypto.Util.number.getPrime(256, randfunc=get_random_bytes)\n",
    "alpha = 2\n",
    "k = randint(0, p-1)\n",
    "a = 765\n",
    "beta = pow(alpha, a, p)\n",
    "\n",
    "msg = \"hoailam\"\n",
    "m=  bytes_to_long(msg.encode('utf-8'))\n",
    "\n",
    "y1 = pow(alpha, k, p)\n",
    "y2 = (pow(beta, k, p) * (m%p)) % p\n",
    "\n",
    "decipher = ((y2%p) * libnum.invmod(pow(y1,a), p))%p\n",
    "\n",
    "print(\"Message=%s\\np=%s\\nAlpha=%s\\na=%s\\nBeta=%s\\nk=%s\\n\\nMa_hoa:\\n\\ty1=%s\\n\\ty2=%s\\n\\nGiai_ma=%s\" % (msg,p,alpha,a,beta,k,y1,y2,(long_to_bytes(decipher))))"
   ]
  },
  {
   "cell_type": "markdown",
   "metadata": {},
   "source": [
    "# 3. Hệ mật trên đường cong Elliptic (EC-Elgamal với p = 50 bits)"
   ]
  },
  {
   "cell_type": "markdown",
   "metadata": {},
   "source": [
    "### Các bước thực hiện đối với hệ mật trên đường cong elliptic EC-Elgamal với  p = 50 bit:\n",
    "Chọn đường cong elliptic sau: y^2 = x^3 + x + 1\n",
    "\n",
    "**Bước 1**: Tính toán số nguyên tố p có độ dài 50 bit thông qua hàm Crypto.Util.number.getPrime(). Ở đây chúng ta sử dụng phương pháp lấy số ngẫu nhiên nên mỗi lần thực hiện lại, p sẽ khác nhau.\n",
    "\n",
    "**Bước 2**: Tạo một thể hiện của đường cong với số p đã có sử dụng hàm libnum.ecc.Curve(). Thể hiện này có thể cho ta biết tất cả các điểm trên đường cong mà nó thể hiện cùng với một số toán tử liên quan. Ở dưới có ví dụ về việc truy xuất ra các điểm có hoành độ x < 50 thuộc đường cong.\n",
    "\n",
    "**Bước 3**: Chọn điểm cơ sở P. Với đường cong và số p đã chọn P = (76, 225579937093506).\n",
    "    \n",
    "**Bước 4**: Chọn số s bất kì, ở đây s = 947.\n",
    "\n",
    "**Bước 5**: Tính toán khóa giá trị cho B\n",
    "\n",
    "    B = s * P\n",
    "    \n",
    "Khi đó ta có khóa công khai (E, p, P, B), khóa riêng tư s.\n",
    "    \n",
    "**Bước 6**: Thể hiện thông điệp muốn trao đổi dưới dạng điểm trong đường cong elliptic đã có. Ở đây ký hiệu là M.\n",
    "    \n",
    "    M = (3, 296740683462827)\n",
    "    \n",
    "Đồng thời chọn một số k bất kì. Ở đây k = 2908.\n",
    "\n",
    "**Bước 7**: Tiến hành mã hóa thông điệp m bằng khóa công khai (E, p, P, B)\n",
    "\n",
    "    M1 = k * P\n",
    "    M2 = M + k * B\n",
    "    \n",
    "Mã hóa sẽ gồm một bộ M!, M2 như trên\n",
    "    \n",
    "**Bước 8**: Giải mã thông điệp đã được mã hóa bằng khóa riêng tư s\n",
    "\n",
    "    decipher = M2 - s * M1\n",
    "    \n",
    "Ở phần lập trình ta sử dụng tính chất sau của một điểm trên đường cong elliptic:\n",
    "    \n",
    "    Giả sử điểm A có tọa độ (x, y), B có tọa độ (z, t) cùng thuộc đường cong:\n",
    "    B - A = B + A' với A' có tọa độ (x, -y)\n",
    "    \n",
    "Sử dụng tính chất trên để tính toán '-s * M1'.\n",
    "    \n",
    "Kết quả thực hiện như sau (mã nguồn sau đó đến phần kết quả thực hiện):\n"
   ]
  },
  {
   "cell_type": "code",
   "execution_count": 12,
   "metadata": {},
   "outputs": [
    {
     "name": "stdout",
     "output_type": "stream",
     "text": [
      "[(3, 296740683462827), (3, 597984024761876), (4, 641025303813169), (4, 253699404411534), (5, 137914070927020), (5, 756810637297683), (6, 612195532744579), (6, 282529175480124), (7, 749259186000990), (7, 145465522223713), (12, 122510770477028), (12, 772213937747675), (13, 457305230175154), (13, 437419478049549), (16, 299431616562625), (16, 595293091662078), (19, 139277471409405), (19, 755447236815298), (20, 473931581056851), (20, 420793127167852), (23, 872388318323167), (23, 22336389901536), (26, 113456120950406), (26, 781268587274297), (27, 360566927810904), (27, 534157780413799), (29, 620048784288329), (29, 274675923936374), (33, 140813792971409), (33, 753910915253294), (34, 593464600574953), (34, 301260107649750), (35, 866668448175257), (35, 28056260049446), (36, 731869605967120), (36, 162855102257583), (37, 261256415193149), (37, 633468293031554), (38, 868262722555780), (38, 26461985668923), (39, 150343838546153), (39, 744380869678550), (40, 673974120283126), (40, 220750587941577), (41, 3750348716835), (41, 890974359507868), (43, 874521628065747), (43, 20203080158956), (46, 887984178583902), (46, 6740529640801), (49, 100004064381822), (49, 794720643842881)]\n"
     ]
    }
   ],
   "source": [
    "p = Crypto.Util.number.getPrime(50, randfunc=get_random_bytes)\n",
    "\n",
    "## y^2 = x^3 + x + 1\n",
    "a, b = 1, 1\n",
    "\n",
    "curve = libnum.ecc.Curve(a, b, p)\n",
    "## first 50 points\n",
    "print(curve.find_points_in_range(1,50))"
   ]
  },
  {
   "cell_type": "code",
   "execution_count": 26,
   "metadata": {},
   "outputs": [
    {
     "name": "stdout",
     "output_type": "stream",
     "text": [
      "[(76, 225579937093506), (76, 669144771131197)]\n"
     ]
    }
   ],
   "source": [
    "P = curve.check_x(76)\n",
    "print(list(P))"
   ]
  },
  {
   "cell_type": "code",
   "execution_count": 50,
   "metadata": {},
   "outputs": [
    {
     "name": "stdout",
     "output_type": "stream",
     "text": [
      "p= 894724708224703\n",
      "Message= (3, 296740683462827)\n",
      "Khoa_cong_khai:\n",
      "\tE:y^2=x^3+1x+1\n",
      "\tP= (76, 225579937093506)\n",
      "\tB= (709105722669586, 555767849562817)\n",
      "Khoa_rieng_tu: s= 947\n",
      "Ma_hoa:\n",
      "\tk= 2908\n",
      "\tM1= (637004803715825, 496064363601268)\n",
      "\tM2= (398382499393501, 422748624162773)\n",
      "Giai_ma= (3, 296740683462827)\n"
     ]
    }
   ],
   "source": [
    "P = (76, 225579937093506)\n",
    "s = 947\n",
    "## B = sP\n",
    "B = curve.power(P, s)\n",
    "\n",
    "M = (3, 296740683462827)\n",
    "k = 2908\n",
    "\n",
    "## cipher\n",
    "M1 = curve.power(P, k)\n",
    "M2 = curve.add(M, curve.power(B, k))\n",
    "\n",
    "## decipher\n",
    "M1_1 = curve.power(M1, s)\n",
    "M1_2 = (M1_1[0], -M1_1[1])\n",
    "decipher = curve.add(M2, M1_2)\n",
    "\n",
    "print(\"p=\", p)\n",
    "print(\"Message=\", M)\n",
    "print(\"Khoa_cong_khai:\\n\\tE:y^2=x^3+%sx+%s\" % (a,b))\n",
    "print(\"\\tP=\", P)\n",
    "print(\"\\tB=\", B)\n",
    "print(\"Khoa_rieng_tu: s=\", s)\n",
    "print(\"Ma_hoa:\")\n",
    "print(\"\\tk=\", k)\n",
    "print(\"\\tM1=\", M1)\n",
    "print(\"\\tM2=\", M2)\n",
    "print(\"Giai_ma=\", decipher)\n"
   ]
  },
  {
   "cell_type": "markdown",
   "metadata": {},
   "source": [
    "# Nguyễn Hoài Lâm - 18020748 - INT3213 1"
   ]
  }
 ],
 "metadata": {
  "kernelspec": {
   "display_name": "Python 3",
   "language": "python",
   "name": "python3"
  },
  "language_info": {
   "codemirror_mode": {
    "name": "ipython",
    "version": 3
   },
   "file_extension": ".py",
   "mimetype": "text/x-python",
   "name": "python",
   "nbconvert_exporter": "python",
   "pygments_lexer": "ipython3",
   "version": "3.9.0"
  }
 },
 "nbformat": 4,
 "nbformat_minor": 4
}
