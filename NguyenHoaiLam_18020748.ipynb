{
 "cells": [
  {
   "cell_type": "markdown",
   "metadata": {},
   "source": [
    "# 1. Hệ mật RSA 512 bits"
   ]
  },
  {
   "cell_type": "code",
   "execution_count": 8,
   "metadata": {},
   "outputs": [
    {
     "name": "stdout",
     "output_type": "stream",
     "text": [
      "Requirement already satisfied: pycryptodome in c:\\users\\user\\anaconda3\\lib\\site-packages (3.10.1)\n",
      "Requirement already satisfied: Crypto in c:\\users\\user\\anaconda3\\lib\\site-packages (1.4.1)\n",
      "Requirement already satisfied: shellescape in c:\\users\\user\\anaconda3\\lib\\site-packages (from Crypto) (3.8.1)\n",
      "Requirement already satisfied: Naked in c:\\users\\user\\anaconda3\\lib\\site-packages (from Crypto) (0.1.31)\n",
      "Requirement already satisfied: requests in c:\\users\\user\\anaconda3\\lib\\site-packages (from Naked->Crypto) (2.24.0)\n",
      "Requirement already satisfied: pyyaml in c:\\users\\user\\anaconda3\\lib\\site-packages (from Naked->Crypto) (5.3.1)\n",
      "Requirement already satisfied: urllib3!=1.25.0,!=1.25.1,<1.26,>=1.21.1 in c:\\users\\user\\anaconda3\\lib\\site-packages (from requests->Naked->Crypto) (1.25.11)\n",
      "Requirement already satisfied: chardet<4,>=3.0.2 in c:\\users\\user\\anaconda3\\lib\\site-packages (from requests->Naked->Crypto) (3.0.4)\n",
      "Requirement already satisfied: idna<3,>=2.5 in c:\\users\\user\\anaconda3\\lib\\site-packages (from requests->Naked->Crypto) (2.10)\n",
      "Requirement already satisfied: certifi>=2017.4.17 in c:\\users\\user\\anaconda3\\lib\\site-packages (from requests->Naked->Crypto) (2020.6.20)\n"
     ]
    }
   ],
   "source": [
    "! pip install pycryptodome\n",
    "! pip install Crypto --user"
   ]
  },
  {
   "cell_type": "code",
   "execution_count": 10,
   "metadata": {},
   "outputs": [
    {
     "name": "stdout",
     "output_type": "stream",
     "text": [
      "Message=hoailam\n",
      "p=12361100961649939059433382920395959210739948344599594825808827407913931324356940173861694642574350265545441684242675148882618440123143870718768234974396611\n",
      "q=12703064859867041018095629711087561562235860205478517149089620871998374149226896211434793950803355787498478343647468084664476125006756517245729983483422511\n",
      "\n",
      "d=38634814829640736821081507214484800404593483720473336923579817446981035028587396559891143626771595065637983717022628865470310819285930081016522794292768027290612970308463470165409736518289128136796636918792318389321377241680715918114108289414605676083400853484306445886437876608957485666666403042134629060973\n",
      "e=65537\n",
      "N=157023867255204029087951549662988549712610427447358826788257395102188904971691919897400674720479381445997924890698420338376915358979348819818905697337372936973927200438268167093692191309822453019296376046911489334476503185981695545104249790340687157146539353054973102177929926587355625288686634648443399510221\n",
      "\n",
      "Ma_hoa=101800199864248981440842300549586419210693697480743961275772384674109353173614917516222489093224528895133019685769328182433309552234497764379786108799314962644474438354847008603298490413508225451570239268708320051731082847701701695388086492550523152466006042892072166442129424714024444969280995605138048556054\n",
      "\n",
      "Giai_ma=b'hoailam'\n"
     ]
    }
   ],
   "source": [
    "from Crypto.Util.number import bytes_to_long, long_to_bytes\n",
    "from Crypto.Random import get_random_bytes \n",
    "import Crypto\n",
    "import libnum\n",
    "\n",
    "msg=\"hoailam\"\n",
    "\n",
    "# Khoa cong khai (n, e) khoa rieng tu d\n",
    "p = Crypto.Util.number.getPrime(512, randfunc=get_random_bytes)\n",
    "q = Crypto.Util.number.getPrime(512, randfunc=get_random_bytes)\n",
    "\n",
    "n = p*q\n",
    "phi=(p-1)*(q-1)\n",
    "\n",
    "e=65537\n",
    "d=libnum.invmod(e,phi)\n",
    "\n",
    "m=  bytes_to_long(msg.encode('utf-8'))\n",
    "\n",
    "cipher=pow(m,e, n)\n",
    "decipher=pow(cipher,d ,n)\n",
    "\n",
    "print (\"Message=%s\\np=%s\\nq=%s\\n\\nd=%d\\ne=%d\\nN=%s\\n\\nMa_hoa=%s\\n\\nGiai_ma=%s\" % (msg,p,q,d,e,n,cipher,(long_to_bytes(decipher))))"
   ]
  },
  {
   "cell_type": "markdown",
   "metadata": {},
   "source": [
    "# 2. Hệ mật Elgamal 256 bits"
   ]
  },
  {
   "cell_type": "code",
   "execution_count": 11,
   "metadata": {},
   "outputs": [
    {
     "name": "stdout",
     "output_type": "stream",
     "text": [
      "Message=hoailam\n",
      "p=95757006111623635108841940793057106450280418779972246374742501921893115493211\n",
      "Alpha=2\n",
      "a=765\n",
      "Beta=63999578118578642493535910320147124563537627748227240577849982963620043493728\n",
      "k=18212636745836060366641735434260137212286604724402705047555116720990749677059\n",
      "\n",
      "Ma_hoa:\n",
      "\ty1=76236373163793537168763218880738010203114063121642655961617051338393042731939\n",
      "\ty2=41844859692105554402084906452261103532824553359767747388627925007330072821058\n",
      "\n",
      "Giai_ma=b'hoailam'\n"
     ]
    }
   ],
   "source": [
    "from random import randint\n",
    "\n",
    "# Khoa cong khai (p, alpha, beta), khoa rieng tu a\n",
    "p = Crypto.Util.number.getPrime(256, randfunc=get_random_bytes)\n",
    "alpha = 2\n",
    "k = randint(0, p-1)\n",
    "a = 765\n",
    "beta = pow(alpha, a, p)\n",
    "\n",
    "msg = \"hoailam\"\n",
    "m=  bytes_to_long(msg.encode('utf-8'))\n",
    "\n",
    "y1 = pow(alpha, k, p)\n",
    "y2 = (pow(beta, k, p) * (m%p)) % p\n",
    "\n",
    "decipher = ((y2%p) * libnum.invmod(pow(y1,a), p))%p\n",
    "\n",
    "print(\"Message=%s\\np=%s\\nAlpha=%s\\na=%s\\nBeta=%s\\nk=%s\\n\\nMa_hoa:\\n\\ty1=%s\\n\\ty2=%s\\n\\nGiai_ma=%s\" % (msg,p,alpha,a,beta,k,y1,y2,(long_to_bytes(decipher))))"
   ]
  },
  {
   "cell_type": "markdown",
   "metadata": {},
   "source": [
    "# 3. Hệ mật trên đường cong Elliptic (EC-Elgamal với p = 50 bits)"
   ]
  },
  {
   "cell_type": "markdown",
   "metadata": {},
   "source": [
    "Chọn đường cong elliptic sau: y^2 = x^3 + x + 1"
   ]
  },
  {
   "cell_type": "code",
   "execution_count": 12,
   "metadata": {},
   "outputs": [
    {
     "name": "stdout",
     "output_type": "stream",
     "text": [
      "[(3, 296740683462827), (3, 597984024761876), (4, 641025303813169), (4, 253699404411534), (5, 137914070927020), (5, 756810637297683), (6, 612195532744579), (6, 282529175480124), (7, 749259186000990), (7, 145465522223713), (12, 122510770477028), (12, 772213937747675), (13, 457305230175154), (13, 437419478049549), (16, 299431616562625), (16, 595293091662078), (19, 139277471409405), (19, 755447236815298), (20, 473931581056851), (20, 420793127167852), (23, 872388318323167), (23, 22336389901536), (26, 113456120950406), (26, 781268587274297), (27, 360566927810904), (27, 534157780413799), (29, 620048784288329), (29, 274675923936374), (33, 140813792971409), (33, 753910915253294), (34, 593464600574953), (34, 301260107649750), (35, 866668448175257), (35, 28056260049446), (36, 731869605967120), (36, 162855102257583), (37, 261256415193149), (37, 633468293031554), (38, 868262722555780), (38, 26461985668923), (39, 150343838546153), (39, 744380869678550), (40, 673974120283126), (40, 220750587941577), (41, 3750348716835), (41, 890974359507868), (43, 874521628065747), (43, 20203080158956), (46, 887984178583902), (46, 6740529640801), (49, 100004064381822), (49, 794720643842881)]\n"
     ]
    }
   ],
   "source": [
    "p = Crypto.Util.number.getPrime(50, randfunc=get_random_bytes)\n",
    "\n",
    "## y^2 = x^3 + x + 1\n",
    "a, b = 1, 1\n",
    "\n",
    "curve = libnum.ecc.Curve(a, b, p)\n",
    "## first 50 points\n",
    "print(curve.find_points_in_range(1,50))"
   ]
  },
  {
   "cell_type": "code",
   "execution_count": 26,
   "metadata": {},
   "outputs": [
    {
     "name": "stdout",
     "output_type": "stream",
     "text": [
      "[(76, 225579937093506), (76, 669144771131197)]\n"
     ]
    }
   ],
   "source": [
    "P = curve.check_x(76)\n",
    "print(list(P))"
   ]
  },
  {
   "cell_type": "code",
   "execution_count": 50,
   "metadata": {},
   "outputs": [
    {
     "name": "stdout",
     "output_type": "stream",
     "text": [
      "p= 894724708224703\n",
      "Message= (3, 296740683462827)\n",
      "Khoa_cong_khai:\n",
      "\tE:y^2=x^3+1x+1\n",
      "\tP= (76, 225579937093506)\n",
      "\tB= (709105722669586, 555767849562817)\n",
      "Khoa_rieng_tu: s= 947\n",
      "Ma_hoa:\n",
      "\tk= 2908\n",
      "\tM1= (637004803715825, 496064363601268)\n",
      "\tM2= (398382499393501, 422748624162773)\n",
      "Giai_ma= (3, 296740683462827)\n"
     ]
    }
   ],
   "source": [
    "P = (76, 225579937093506)\n",
    "s = 947\n",
    "## B = sP\n",
    "B = curve.power(P, s)\n",
    "\n",
    "M = (3, 296740683462827)\n",
    "k = 2908\n",
    "\n",
    "## cipher\n",
    "M1 = curve.power(P, k)\n",
    "M2 = curve.add(M, curve.power(B, k))\n",
    "\n",
    "## decipher\n",
    "M1_1 = curve.power(M1, s)\n",
    "M1_2 = (M1_1[0], -M1_1[1])\n",
    "decipher = curve.add(M2, M1_2)\n",
    "\n",
    "print(\"p=\", p)\n",
    "print(\"Message=\", M)\n",
    "print(\"Khoa_cong_khai:\\n\\tE:y^2=x^3+%sx+%s\" % (a,b))\n",
    "print(\"\\tP=\", P)\n",
    "print(\"\\tB=\", B)\n",
    "print(\"Khoa_rieng_tu: s=\", s)\n",
    "print(\"Ma_hoa:\")\n",
    "print(\"\\tk=\", k)\n",
    "print(\"\\tM1=\", M1)\n",
    "print(\"\\tM2=\", M2)\n",
    "print(\"Giai_ma=\", decipher)\n"
   ]
  },
  {
   "cell_type": "markdown",
   "metadata": {},
   "source": [
    "# Nguyễn Hoài Lâm - 18020748 - INT3213 1"
   ]
  },
  {
   "cell_type": "code",
   "execution_count": null,
   "metadata": {},
   "outputs": [],
   "source": []
  }
 ],
 "metadata": {
  "kernelspec": {
   "display_name": "Python 3",
   "language": "python",
   "name": "python3"
  },
  "language_info": {
   "codemirror_mode": {
    "name": "ipython",
    "version": 3
   },
   "file_extension": ".py",
   "mimetype": "text/x-python",
   "name": "python",
   "nbconvert_exporter": "python",
   "pygments_lexer": "ipython3",
   "version": "3.8.5"
  }
 },
 "nbformat": 4,
 "nbformat_minor": 4
}
